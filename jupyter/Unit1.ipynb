{
 "cells": [
  {
   "cell_type": "markdown",
   "metadata": {},
   "source": [
    "### 3 Ways to Run a Python File\n",
    "\n",
    "Run $ python3 file.py\n",
    "\n",
    "Create an executive file ==> $ chmod +x file.py"
   ]
  },
  {
   "cell_type": "markdown",
   "metadata": {},
   "source": [
    "### Collatz Conjecture\n",
    "\n",
    "Take a positive integer\n",
    "\n",
    "If even, divide by 2\n",
    "\n",
    "If odd, multiply by 3 and add 1\n",
    "\n",
    "Repeat until 1\n"
   ]
  },
  {
   "cell_type": "markdown",
   "metadata": {},
   "source": [
    "### Git and Gitlab Steps\n",
    "1. Create a project\n",
    "2. Copy the project\n",
    "3. Update the project \n",
    "4. \n",
    "\n",
    "Git Functions\n",
    "\n",
    "git checkout -b branchname ==> Creates new branch and goes into it"
   ]
  }
 ],
 "metadata": {
  "language_info": {
   "name": "python"
  },
  "orig_nbformat": 4
 },
 "nbformat": 4,
 "nbformat_minor": 2
}

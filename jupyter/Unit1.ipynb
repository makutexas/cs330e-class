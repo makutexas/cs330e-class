{
 "cells": [
  {
   "cell_type": "markdown",
   "metadata": {},
   "source": [
    "### 3 Ways to Run a Python File\n",
    "\n",
    "Run $ python3 file.py\n",
    "\n",
    "Create an executive file ==> $ chmod +x file.py"
   ]
  },
  {
   "cell_type": "markdown",
   "metadata": {},
   "source": [
    "### Collatz Conjecture\n",
    "\n",
    "Take a positive integer\n",
    "\n",
    "If even, divide by 2\n",
    "\n",
    "If odd, multiply by 3 and add 1\n",
    "\n",
    "Repeat until 1\n"
   ]
  }
 ],
 "metadata": {
  "language_info": {
   "name": "python"
  },
  "orig_nbformat": 4
 },
 "nbformat": 4,
 "nbformat_minor": 2
}

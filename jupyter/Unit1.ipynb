{
 "cells": [
  {
   "cell_type": "markdown",
   "metadata": {},
   "source": [
    "### 3 Ways to Run a Python File\n",
    "\n",
    "Run $ python3 file.py\n",
    "\n",
    "Create an executive file ==> $ chmod +x file.py"
   ]
  },
  {
   "cell_type": "markdown",
   "metadata": {},
   "source": [
    "### Collatz Conjecture\n",
    "\n",
    "Take a positive integer\n",
    "\n",
    "If even, divide by 2\n",
    "\n",
    "If odd, multiply by 3 and add 1\n",
    "\n",
    "Repeat until 1\n"
   ]
  },
  {
   "cell_type": "markdown",
   "metadata": {},
   "source": [
    "### Git and Gitlab Steps\n",
    "1. Create a project\n",
    "2. Copy the project\n",
    "3. Update the project \n",
    "4. \n",
    "\n",
    "Git Functions\n",
    "\n",
    "git checkout -b branchname ==> Creates new branch and goes into it"
   ]
  },
  {
   "cell_type": "markdown",
   "metadata": {},
   "source": [
    "### Docker\n",
    "\n",
    "Docker - Creating a package so that a program can run in the an environment with the same settings\n",
    "Dockerfile --> Docker Image --> Docker Container\n",
    "\n",
    "Dockerfile (Blueprint) - Instructions to build a docker image\n",
    "\n",
    "Image - Template for running Docker Containers\n",
    "\n",
    "Container - Running instance of an image"
   ]
  },
  {
   "cell_type": "markdown",
   "metadata": {},
   "source": [
    "#pragma: no cover - Indicates to coverage that a statement should not be included in coverage reports."
   ]
  },
  {
   "cell_type": "markdown",
   "metadata": {},
   "source": [
    "Dev Push Dev, Origin Push Origin\n",
    "Run Dev in cloud before merging locally, then pushing to origin"
   ]
  },
  {
   "cell_type": "markdown",
   "metadata": {},
   "source": [
    "Caches - An array of pre-computed values\n",
    "Types of Cache - Lazy Cache, Eager Cache, Meta Cache\n",
    "Lazy Cache - Caches upon request\n",
    "Eager Cache - Caches before all requests\n",
    "Meta Cache - Combination of both"
   ]
  },
  {
   "cell_type": "code",
   "execution_count": 5,
   "metadata": {},
   "outputs": [
    {
     "name": "stdout",
     "output_type": "stream",
     "text": [
      "[2, 3, 4]\n",
      "(5, 6, 7)\n",
      "id of a is  2769830976448\n",
      "id of t is  2769831188480\n",
      "\n",
      "For immutable objects, modifying the object creates a new object\n",
      "id of a after modifying is  2769830976448\n",
      "\n",
      "For mutable objects, modifying the object does not create a new object, but modifies the existing object\n",
      "id of t after modifying is  2769829879360\n"
     ]
    }
   ],
   "source": [
    "a = [2,3,4]\n",
    "t = (5,6,7)\n",
    "\n",
    "print(a)\n",
    "print(t)\n",
    "\n",
    "print(\"id of a is \", id(a))\n",
    "print(\"id of t is \", id(t))\n",
    "\n",
    "a += [3]\n",
    "t += (3,)\n",
    "\n",
    "print()\n",
    "print(\"For immutable objects, modifying the object creates a new object\")\n",
    "print(\"id of a after modifying is \", id(a))\n",
    "print()\n",
    "print(\"For mutable objects, modifying the object does not create a new object, but modifies the existing object\")\n",
    "print(\"id of t after modifying is \", id(t))\n",
    "\n",
    "\n"
   ]
  },
  {
   "cell_type": "code",
   "execution_count": 6,
   "metadata": {},
   "outputs": [
    {
     "name": "stdout",
     "output_type": "stream",
     "text": [
      "2769830175552\n",
      "2769830175552\n",
      "2769830980480\n"
     ]
    }
   ],
   "source": [
    "# += and + have DIFFERENT behaviors\n",
    "\n",
    "y = [1, 2, 3]\n",
    "\n",
    "print(id(y))\n",
    "\n",
    "# += does NOT change the id of the object\n",
    "y += [4]\n",
    "print(id(y))\n",
    "\n",
    "# + does change the id of the object\n",
    "y = y + [4]\n",
    "print(id(y))"
   ]
  },
  {
   "cell_type": "code",
   "execution_count": 7,
   "metadata": {},
   "outputs": [
    {
     "name": "stdout",
     "output_type": "stream",
     "text": [
      "[1, 2, 4]\n",
      "[1, 2, 4, 8]\n"
     ]
    }
   ],
   "source": [
    "# Lists ARE tolerant to other classes\n",
    "# List += List is allowed\n",
    "# List += Tuple is also allowed\n",
    "\n",
    "x = [1,2]\n",
    "\n",
    "x += (4,)\n",
    "\n",
    "print(x)\n",
    "\n",
    "x += [8]\n",
    "\n",
    "print(x)"
   ]
  },
  {
   "cell_type": "code",
   "execution_count": 8,
   "metadata": {},
   "outputs": [],
   "source": [
    "# Tuple += Tuple is allowed\n",
    "# Tuple += List is NOT allowed"
   ]
  },
  {
   "cell_type": "markdown",
   "metadata": {},
   "source": [
    "### Iterables\n",
    "Iterables fall under 3 categories:\n",
    "1. Indexable\n",
    "2. Nonindexable\n",
    "3. Generators or Iterators\n",
    "\n",
    "Generators or Iterators Properties\n",
    "- Lazy\n",
    "- Exhaustable - Once a value is generated and used, it is gone"
   ]
  },
  {
   "cell_type": "markdown",
   "metadata": {},
   "source": [
    "Iterables have properties\n",
    "- __iter__ - Iterable\n",
    "- __getitem__ - Indexable\n",
    "- __next__ - If its an iterator\n",
    "\n",
    "hasattr(x, \"__iter__\") - Checks if x is an iterable\n",
    "\n",
    "hasattr(x, \"__getitem__\") - Checks if x is indexable\n",
    "\n",
    "hasattr(x, \"__next__\") - Checks if x an interator\n",
    "\n",
    "An iterator is a specific type of iterable which is __lazy__ and __exhaustable__\n",
    "\n",
    "Values can be turned into iterators by using the iter() function"
   ]
  },
  {
   "cell_type": "code",
   "execution_count": 17,
   "metadata": {},
   "outputs": [
    {
     "name": "stdout",
     "output_type": "stream",
     "text": [
      "[1, 2, 3]\n",
      "True\n",
      "True\n",
      "False\n",
      "<list_iterator object at 0x00000284E7F69930>\n",
      "True\n",
      "False\n",
      "True\n",
      "[1, 2, 3]\n",
      "[]\n",
      "[1, 2, 3]\n",
      "1\n",
      "2\n",
      "3\n"
     ]
    },
    {
     "ename": "StopIteration",
     "evalue": "",
     "output_type": "error",
     "traceback": [
      "\u001b[1;31m---------------------------------------------------------------------------\u001b[0m",
      "\u001b[1;31mStopIteration\u001b[0m                             Traceback (most recent call last)",
      "\u001b[1;32mc:\\Users\\markc\\OneDrive - The University of Texas at Austin\\UT Austin - Undergraduate\\2023-2024 Senior\\Fall2023\\CS330E - Software Engineering 1\\cs330e-class\\jupyter\\Unit1.ipynb Cell 14\u001b[0m line \u001b[0;36m<cell line: 29>\u001b[1;34m()\u001b[0m\n\u001b[0;32m     <a href='vscode-notebook-cell:/c%3A/Users/markc/OneDrive%20-%20The%20University%20of%20Texas%20at%20Austin/UT%20Austin%20-%20Undergraduate/2023-2024%20Senior/Fall2023/CS330E%20-%20Software%20Engineering%201/cs330e-class/jupyter/Unit1.ipynb#X20sZmlsZQ%3D%3D?line=26'>27</a>\u001b[0m \u001b[39mprint\u001b[39m(\u001b[39mnext\u001b[39m(y))\n\u001b[0;32m     <a href='vscode-notebook-cell:/c%3A/Users/markc/OneDrive%20-%20The%20University%20of%20Texas%20at%20Austin/UT%20Austin%20-%20Undergraduate/2023-2024%20Senior/Fall2023/CS330E%20-%20Software%20Engineering%201/cs330e-class/jupyter/Unit1.ipynb#X20sZmlsZQ%3D%3D?line=27'>28</a>\u001b[0m \u001b[39mprint\u001b[39m(\u001b[39mnext\u001b[39m(y))\n\u001b[1;32m---> <a href='vscode-notebook-cell:/c%3A/Users/markc/OneDrive%20-%20The%20University%20of%20Texas%20at%20Austin/UT%20Austin%20-%20Undergraduate/2023-2024%20Senior/Fall2023/CS330E%20-%20Software%20Engineering%201/cs330e-class/jupyter/Unit1.ipynb#X20sZmlsZQ%3D%3D?line=28'>29</a>\u001b[0m \u001b[39mprint\u001b[39m(\u001b[39mnext\u001b[39;49m(y))\n",
      "\u001b[1;31mStopIteration\u001b[0m: "
     ]
    }
   ],
   "source": [
    "x = [1, 2, 3]\n",
    "\n",
    "print(x)\n",
    "\n",
    "print(hasattr(x, \"__iter__\"))\n",
    "print(hasattr(x, \"__getitem__\"))\n",
    "print(hasattr(x, \"__next__\"))\n",
    "\n",
    "y = iter(x)\n",
    "\n",
    "print(y)\n",
    "\n",
    "print(hasattr(y, \"__iter__\"))\n",
    "print(hasattr(y, \"__getitem__\"))\n",
    "print(hasattr(y, \"__next__\"))\n",
    "\n",
    "print(list(y))\n",
    "print(list(y)) #Values are exhausted after generatoring once\n",
    "\n",
    "y = iter(x) # y is \"recharged\"\n",
    "\n",
    "print(list(y))\n",
    "\n",
    "y = iter(x)\n",
    "\n",
    "print(next(y))\n",
    "print(next(y))\n",
    "print(next(y))\n",
    "print(next(y))"
   ]
  },
  {
   "cell_type": "code",
   "execution_count": 20,
   "metadata": {},
   "outputs": [
    {
     "name": "stdout",
     "output_type": "stream",
     "text": [
      "y is full\n"
     ]
    }
   ],
   "source": [
    "x = []\n",
    "y = iter(x)\n",
    "\n",
    "if y:\n",
    "    print(\"y is full\") #There might be no values in y, but the factory is still present. y itself is still an object and structure\n",
    "else:\n",
    "    print(\"y is empty\")\n",
    "\n",
    "print(x == [])"
   ]
  },
  {
   "cell_type": "markdown",
   "metadata": {},
   "source": [
    "Yield\n",
    "\n",
    "Yield is a keyword that is used like return, except the function will return a generator. Results in a pointer to the factory (THe function). When it is called, Python will execute the function until yield, pause, and continue off when called again. "
   ]
  },
  {
   "cell_type": "code",
   "execution_count": 1,
   "metadata": {},
   "outputs": [
    {
     "name": "stdout",
     "output_type": "stream",
     "text": [
      "abc\n",
      "5\n",
      "<generator object g at 0x000001B172499E70>\n",
      "abc\n",
      "5\n",
      "<generator object g at 0x000001B172499E70>\n",
      "def\n"
     ]
    },
    {
     "ename": "StopIteration",
     "evalue": "",
     "output_type": "error",
     "traceback": [
      "\u001b[1;31m---------------------------------------------------------------------------\u001b[0m",
      "\u001b[1;31mStopIteration\u001b[0m                             Traceback (most recent call last)",
      "\u001b[1;32mc:\\Users\\markc\\OneDrive - The University of Texas at Austin\\UT Austin - Undergraduate\\2023-2024 Senior\\Fall2023\\CS330E - Software Engineering 1\\cs330e-class\\jupyter\\Unit1.ipynb Cell 17\u001b[0m line \u001b[0;36m<cell line: 19>\u001b[1;34m()\u001b[0m\n\u001b[0;32m     <a href='vscode-notebook-cell:/c%3A/Users/markc/OneDrive%20-%20The%20University%20of%20Texas%20at%20Austin/UT%20Austin%20-%20Undergraduate/2023-2024%20Senior/Fall2023/CS330E%20-%20Software%20Engineering%201/cs330e-class/jupyter/Unit1.ipynb#X24sZmlsZQ%3D%3D?line=16'>17</a>\u001b[0m \u001b[39mprint\u001b[39m(\u001b[39mnext\u001b[39m(w))\n\u001b[0;32m     <a href='vscode-notebook-cell:/c%3A/Users/markc/OneDrive%20-%20The%20University%20of%20Texas%20at%20Austin/UT%20Austin%20-%20Undergraduate/2023-2024%20Senior/Fall2023/CS330E%20-%20Software%20Engineering%201/cs330e-class/jupyter/Unit1.ipynb#X24sZmlsZQ%3D%3D?line=17'>18</a>\u001b[0m \u001b[39mprint\u001b[39m(w)\n\u001b[1;32m---> <a href='vscode-notebook-cell:/c%3A/Users/markc/OneDrive%20-%20The%20University%20of%20Texas%20at%20Austin/UT%20Austin%20-%20Undergraduate/2023-2024%20Senior/Fall2023/CS330E%20-%20Software%20Engineering%201/cs330e-class/jupyter/Unit1.ipynb#X24sZmlsZQ%3D%3D?line=18'>19</a>\u001b[0m \u001b[39mprint\u001b[39m(\u001b[39mnext\u001b[39;49m(w))\n",
      "\u001b[1;31mStopIteration\u001b[0m: "
     ]
    }
   ],
   "source": [
    "def f():\n",
    "    print('abc')\n",
    "    return 5\n",
    "    print('def')\n",
    "\n",
    "v = f()\n",
    "print(v)\n",
    "\n",
    "def g():\n",
    "    print('abc')\n",
    "    yield 5\n",
    "    print('def')\n",
    "\n",
    "w = g()\n",
    "\n",
    "print(w)\n",
    "print(next(w))\n",
    "print(w)\n",
    "print(next(w))"
   ]
  },
  {
   "cell_type": "markdown",
   "metadata": {},
   "source": [
    "### RMSE (Root Mean Squared Error)\n",
    "\n",
    "Checks the difference between the predicted and actual values"
   ]
  },
  {
   "cell_type": "markdown",
   "metadata": {},
   "source": [
    "### Does each of the following always provide the expected result for any iterable?\n",
    "\n",
    "1. list(iterable) - No\n",
    "\n",
    "    Iterables include iterators, but using count() would result in an infinite list\n",
    "\n",
    "2. len(iterable) == 0 - No\n",
    "\n",
    "    Same reason as above\n",
    "\n",
    "3. if (iterable == []): - No\n",
    "        do something\n",
    "    else:\n",
    "        do another\n",
    "\n",
    "    Cannot compare an iterable to a list\n",
    "    \n"
   ]
  },
  {
   "cell_type": "markdown",
   "metadata": {},
   "source": [
    "### Parameters\n",
    "\n",
    "Parameters are the names of the arguments that are passed into a function\n",
    "\n",
    "Variables can be passed by __position__ or by __name__\n",
    "\n",
    "By position comes first, then by name\n",
    "\n",
    "### Defaulting\n",
    "\n",
    "Deafulting is when a parameter is given a default value\n",
    "\n",
    "Default values must be given to the right of non-default values\n",
    "\n",
    "Mutable default values are dangerous because they are shared between calls\n",
    "\n",
    "### Packing and Unpacking\n",
    "\n",
    "Packing is when a function takes in an arbitrary number of arguments\n",
    "\n",
    "An asterick (*) in the __paramters__ packs the arguments into a tuple\n",
    "\n",
    "An asterick (*) in the __arguments__ unpacks the tuple into arguments\n",
    "\n",
    "Double astericks (**) in the __parameters__ packs the arguments into a dictionary\n",
    "\n",
    "Double astericks (**) in the __arguments__ unpacks the dictionary into arguments\n",
    "\n",
    "### Syntax rules\n",
    "\n",
    "Position comes first, then name, then unpacking iterable, then unpacking the dictionary \n",
    "\n",
    "### Semantic Rules\n",
    "\n",
    "Position and unpacking iterables are equally important (Unpacked first)\n",
    "\n",
    "Then by variable name\n",
    "\n",
    "Then by dictionary"
   ]
  },
  {
   "cell_type": "markdown",
   "metadata": {},
   "source": [
    "### Closures\n",
    "\n",
    "A closure is an inner function that remembers and has access to variables in the local scope in which it was created even after the outer function has finished executing"
   ]
  },
  {
   "cell_type": "markdown",
   "metadata": {},
   "source": [
    "### Decorators\n",
    "\n",
    "A decorator is a function that takes another function as it's argument, adds some functionarlity, and return another function without changing the original function"
   ]
  },
  {
   "cell_type": "code",
   "execution_count": 6,
   "metadata": {},
   "outputs": [
    {
     "name": "stdout",
     "output_type": "stream",
     "text": [
      "display()\n",
      "display\n",
      "\n",
      "display() w/ decorator\n",
      "wrapper\n",
      "display\n"
     ]
    }
   ],
   "source": [
    "def df(of): # Decorator\n",
    "    def wf():\n",
    "        print('wrapper')\n",
    "        return of()\n",
    "    return wf\n",
    "\n",
    "def display(): # Function\n",
    "    print('display')\n",
    "\n",
    "print(\"display()\")\n",
    "display()\n",
    "\n",
    "print()\n",
    "\n",
    "print(\"display() w/ decorator\")\n",
    "display = df(display)\n",
    "display()"
   ]
  },
  {
   "cell_type": "markdown",
   "metadata": {},
   "source": [
    "### Relational Algebra Tables\n",
    "\n",
    "Relations can be described by lists of dictionaries in Python\n",
    "\n",
    "select - Filters rows\n",
    "\n",
    "project - Filters columns\n",
    "\n",
    "select(relation, unary_predicate) - Returns a new relation with rows that satisfy the predicate\n",
    "\n",
    "project(relation, *attributes) - Returns a new relation with columns that are in the list"
   ]
  },
  {
   "cell_type": "code",
   "execution_count": 2,
   "metadata": {},
   "outputs": [
    {
     "name": "stdout",
     "output_type": "stream",
     "text": [
      "{'A': 1, 'B': 2}\n"
     ]
    }
   ],
   "source": [
    "a={\"A\":1}\n",
    "b={\"B\":2}\n",
    "\n",
    "print(a|b)"
   ]
  }
 ],
 "metadata": {
  "kernelspec": {
   "display_name": "Python 3",
   "language": "python",
   "name": "python3"
  },
  "language_info": {
   "codemirror_mode": {
    "name": "ipython",
    "version": 3
   },
   "file_extension": ".py",
   "mimetype": "text/x-python",
   "name": "python",
   "nbconvert_exporter": "python",
   "pygments_lexer": "ipython3",
   "version": "3.10.2"
  },
  "orig_nbformat": 4
 },
 "nbformat": 4,
 "nbformat_minor": 2
}

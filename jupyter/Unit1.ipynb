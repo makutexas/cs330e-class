{
 "cells": [
  {
   "cell_type": "markdown",
   "metadata": {},
   "source": [
    "### 3 Ways to Run a Python File\n",
    "\n",
    "Run $ python3 file.py\n",
    "\n",
    "Create an executive file ==> $ chmod +x file.py"
   ]
  },
  {
   "cell_type": "markdown",
   "metadata": {},
   "source": [
    "### Collatz Conjecture\n",
    "\n",
    "Take a positive integer\n",
    "\n",
    "If even, divide by 2\n",
    "\n",
    "If odd, multiply by 3 and add 1\n",
    "\n",
    "Repeat until 1\n"
   ]
  },
  {
   "cell_type": "markdown",
   "metadata": {},
   "source": [
    "### Git and Gitlab Steps\n",
    "1. Create a project\n",
    "2. Copy the project\n",
    "3. Update the project \n",
    "4. \n",
    "\n",
    "Git Functions\n",
    "\n",
    "git checkout -b branchname ==> Creates new branch and goes into it"
   ]
  },
  {
   "cell_type": "markdown",
   "metadata": {},
   "source": [
    "### Docker\n",
    "\n",
    "Docker - Creating a package so that a program can run in the an environment with the same settings\n",
    "Dockerfile --> Docker Image --> Docker Container\n",
    "\n",
    "Dockerfile (Blueprint) - Instructions to build a docker image\n",
    "\n",
    "Image - Template for running Docker Containers\n",
    "\n",
    "Container - Running instance of an image"
   ]
  },
  {
   "cell_type": "markdown",
   "metadata": {},
   "source": [
    "#pragma: no cover - Indicates to coverage that a statement should not be included in coverage reports."
   ]
  }
 ],
 "metadata": {
  "language_info": {
   "name": "python"
  },
  "orig_nbformat": 4
 },
 "nbformat": 4,
 "nbformat_minor": 2
}
